{
  "cells": [
    {
      "cell_type": "markdown",
      "metadata": {
        "id": "DMWBzSAqoBUw"
      },
      "source": [
        "\n",
        "## Library\n",
        "Numpy = library Python yang fokus pada scientific computing\n",
        " \n",
        "Scikit-learn(sklearn) = untuk membantu melakukan processing data ataupun melakukan training data untuk kebutuhan machine learning atau data science\n",
        "\n",
        "PolynomialFeatures = fitur yang dibuat dengan menaikkan fitur yang ada menjadi eksponen\n",
        "\n",
        "linear_model = berisi fungsi yang berbeda untuk melakukan pembelajaran mesin dengan model linier"
      ]
    },
    {
      "cell_type": "code",
      "execution_count": null,
      "metadata": {
        "id": "xztkd1bwn_9K"
      },
      "outputs": [],
      "source": [
        "from sklearn.preprocessing import PolynomialFeatures\n",
        "from sklearn import linear_model\n",
        "import numpy as np"
      ]
    },
    {
      "cell_type": "markdown",
      "metadata": {
        "id": "NdP3Cv75ogI0"
      },
      "source": [
        "## Database\n",
        "x = Data\n",
        "\n",
        "y = Target"
      ]
    },
    {
      "cell_type": "code",
      "execution_count": null,
      "metadata": {
        "id": "JO6EL-wSoiVP"
      },
      "outputs": [],
      "source": [
        "x = [[0], [4], [8], [12], [16], [20], [24], [28], [32], [36]]\n",
        "y = [0, 3, 8, 15, 24, 35, 48, 63, 80, 99]"
      ]
    },
    {
      "cell_type": "markdown",
      "metadata": {
        "id": "_PjcDJzZpcwB"
      },
      "source": [
        "\n",
        "## Data Uji"
      ]
    },
    {
      "cell_type": "code",
      "execution_count": null,
      "metadata": {
        "colab": {
          "base_uri": "https://localhost:8080/"
        },
        "id": "JJnX5G-tpfy5",
        "outputId": "36283de1-f1c5-4f58-f12f-5aefa38b1819"
      },
      "outputs": [
        {
          "output_type": "execute_result",
          "data": {
            "text/plain": [
              "LinearRegression()"
            ]
          },
          "metadata": {},
          "execution_count": 3
        }
      ],
      "source": [
        "predict = np.array ([[12]])\n",
        "poly = PolynomialFeatures(degree=2)\n",
        "x_ = poly.fit_transform(x)\n",
        "predict_ = poly.fit_transform(predict)\n",
        "regr = linear_model.LinearRegression()\n",
        "regr.fit (x_,y)"
      ]
    },
    {
      "cell_type": "markdown",
      "metadata": {
        "id": "AQ7ffFC0qsK8"
      },
      "source": [
        "## Menanpilkan data prediksi"
      ]
    },
    {
      "cell_type": "code",
      "execution_count": null,
      "metadata": {
        "colab": {
          "base_uri": "https://localhost:8080/"
        },
        "id": "uFPOc8j4qxNK",
        "outputId": "63b78125-a0ae-47a7-e117-c286d2be14e2"
      },
      "outputs": [
        {
          "output_type": "stream",
          "name": "stdout",
          "text": [
            "Prediksi\n",
            "Input =  [[12]]\n",
            "Output =  [15.]\n"
          ]
        }
      ],
      "source": [
        "print (\"Prediksi\")\n",
        "print (\"Input = \", predict)\n",
        "print (\"Output = \", regr.predict(predict_))"
      ]
    }
  ],
  "metadata": {
    "colab": {
      "provenance": []
    },
    "kernelspec": {
      "display_name": "Python 3",
      "name": "python3"
    },
    "language_info": {
      "name": "python"
    }
  },
  "nbformat": 4,
  "nbformat_minor": 0
}