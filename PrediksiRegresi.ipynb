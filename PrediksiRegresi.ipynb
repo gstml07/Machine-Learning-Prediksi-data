{
  "nbformat": 4,
  "nbformat_minor": 0,
  "metadata": {
    "colab": {
      "provenance": [],
      "toc_visible": true
    },
    "kernelspec": {
      "name": "python3",
      "display_name": "Python 3"
    },
    "language_info": {
      "name": "python"
    }
  },
  "cells": [
    {
      "cell_type": "markdown",
      "source": [
        "\n",
        "## Library\n",
        "Numpy = library Python yang fokus pada scientific computing\n",
        " \n",
        "Scikit-learn(sklearn) = untuk membantu melakukan processing data ataupun melakukan training data untuk kebutuhan machine learning atau data science\n",
        "\n",
        "linear_model = berisi fungsi yang berbeda untuk melakukan pembelajaran mesin dengan model linier"
      ],
      "metadata": {
        "id": "q2bx8jGAlcSB"
      }
    },
    {
      "cell_type": "code",
      "source": [
        "import numpy as np\n",
        "from sklearn.linear_model import LinearRegression"
      ],
      "metadata": {
        "id": "UDRPmOMilbBr"
      },
      "execution_count": null,
      "outputs": []
    },
    {
      "cell_type": "markdown",
      "source": [
        "## Database\n",
        "x = data\n",
        "\n",
        "y = target"
      ],
      "metadata": {
        "id": "PXGiqNaQl3uM"
      }
    },
    {
      "cell_type": "code",
      "execution_count": null,
      "metadata": {
        "id": "VsJCNGLVlVsd"
      },
      "outputs": [],
      "source": [
        "x = [[2], [4], [6], [8], [10], [12], [14], [16], [18], [20]]\n",
        "y = [1, 4, 7, 10, 13, 16, 19, 21, 24, 27]"
      ]
    },
    {
      "cell_type": "markdown",
      "source": [
        "## Regresi"
      ],
      "metadata": {
        "id": "3t8kkqh_mTh6"
      }
    },
    {
      "cell_type": "code",
      "source": [
        "regr = LinearRegression().fit(x,y)\n",
        "regr.score(x,y)"
      ],
      "metadata": {
        "colab": {
          "base_uri": "https://localhost:8080/"
        },
        "id": "DiwF0zvgmW6V",
        "outputId": "7b651933-ffa9-4fc9-e3ad-0cdb3f101451"
      },
      "execution_count": null,
      "outputs": [
        {
          "output_type": "execute_result",
          "data": {
            "text/plain": [
              "0.9988796414852753"
            ]
          },
          "metadata": {},
          "execution_count": 5
        }
      ]
    },
    {
      "cell_type": "markdown",
      "source": [
        "## Data uji"
      ],
      "metadata": {
        "id": "1CL6o_YzmgbY"
      }
    },
    {
      "cell_type": "code",
      "source": [
        "predict = np.array([[6]])"
      ],
      "metadata": {
        "id": "Bq4UJzQ2mjoX"
      },
      "execution_count": null,
      "outputs": []
    },
    {
      "cell_type": "markdown",
      "source": [
        "## Menanpilkan Data Prediksi"
      ],
      "metadata": {
        "id": "dBg8JRsYmtTe"
      }
    },
    {
      "cell_type": "code",
      "source": [
        "print (\"Prediksi\")\n",
        "print (\"Input = \", predict)\n",
        "print (\"Output= \", regr.predict(predict))"
      ],
      "metadata": {
        "colab": {
          "base_uri": "https://localhost:8080/"
        },
        "id": "HL3jztanmw78",
        "outputId": "138253dd-1653-4fec-b9e8-edc8c13c49eb"
      },
      "execution_count": null,
      "outputs": [
        {
          "output_type": "stream",
          "name": "stdout",
          "text": [
            "Prediksi\n",
            "Input =  [[6]]\n",
            "Output=  [7.01818182]\n"
          ]
        }
      ]
    }
  ]
}